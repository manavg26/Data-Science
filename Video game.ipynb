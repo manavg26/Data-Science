{
 "cells": [
  {
   "cell_type": "code",
   "execution_count": 17,
   "id": "7eea901c",
   "metadata": {},
   "outputs": [
    {
     "data": {
      "text/plain": [
       "(13763, 14)"
      ]
     },
     "execution_count": 17,
     "metadata": {},
     "output_type": "execute_result"
    }
   ],
   "source": [
    "import pandas as pd\n",
    "\n",
    "df =pd.read_excel('VideoGameDataset.xlsx')\n",
    "df.shape\n",
    "# df.columns"
   ]
  },
  {
   "cell_type": "code",
   "execution_count": 18,
   "id": "f8dd4245",
   "metadata": {},
   "outputs": [],
   "source": [
    "X = df.drop(columns=[ \n",
    "        'european_sales'])\n",
    "X=X.head(1000)\n",
    "Y = df['european_sales']\n",
    "Y=Y.head(1000)"
   ]
  },
  {
   "cell_type": "code",
   "execution_count": 19,
   "id": "501c68fa",
   "metadata": {},
   "outputs": [],
   "source": [
    "from sklearn.preprocessing import LabelEncoder\n",
    "from sklearn.preprocessing import OneHotEncoder\n",
    "\n",
    "# Assuming 'X' is a pandas DataFrame containing the features\n",
    "# and 'Y' is a pandas Series containing the target variable\n",
    "\n",
    "# Apply label encoding to categorical features in 'X'\n",
    "X['console'] = X['console'].astype(str)\n",
    "X['title'] = X['title'].astype(str)\n",
    "label_encoder = LabelEncoder()\n",
    "X_encoded = X.copy()\n",
    "for column in X.columns:\n",
    "    if X[column].dtype == 'object': \n",
    "        X_encoded[column] = label_encoder.fit_transform(X[column])\n",
    "        \n",
    "# X_encoded = pd.get_dummies(X_encoded)\n",
    "\n",
    "# encoder = OneHotEncoder(sparse=False, handle_unknown='ignore')\n",
    "# X_encoded = pd.get_dummies(X, columns=['console'], drop_first=True)"
   ]
  },
  {
   "cell_type": "code",
   "execution_count": 20,
   "id": "6c19caf9",
   "metadata": {},
   "outputs": [
    {
     "data": {
      "text/plain": [
       "1.4082712500000003"
      ]
     },
     "execution_count": 20,
     "metadata": {},
     "output_type": "execute_result"
    }
   ],
   "source": [
    "from sklearn.tree import DecisionTreeRegressor\n",
    "from sklearn.metrics import mean_squared_error\n",
    "from sklearn.model_selection import train_test_split\n",
    "import joblib\n",
    "\n",
    "X_train,X_test,Y_train,Y_test = train_test_split(X_encoded,Y,test_size=0.4)\n",
    "\n",
    "model = DecisionTreeRegressor()\n",
    "model.fit(X_train,Y_train)\n",
    "\n",
    "# joblib.dump(model,'game-sales.joblib')\n",
    "\n",
    "magic = model.predict(X_test)\n",
    "score = mean_squared_error(Y_test,magic)\n",
    "score\n"
   ]
  },
  {
   "cell_type": "code",
   "execution_count": 21,
   "id": "5576979b",
   "metadata": {},
   "outputs": [
    {
     "data": {
      "text/plain": [
       "1.4082712500000003"
      ]
     },
     "execution_count": 21,
     "metadata": {},
     "output_type": "execute_result"
    }
   ],
   "source": [
    "# joblib.load('game-sales.joblib')\n",
    "magic = model.predict(X_test)\n",
    "score = mean_squared_error(Y_test,magic)\n",
    "score"
   ]
  },
  {
   "cell_type": "code",
   "execution_count": 23,
   "id": "92ff0855",
   "metadata": {},
   "outputs": [],
   "source": [
    "from sklearn import tree\n",
    "\n",
    "tree.export_graphviz(model,out_file='games1.dot',\n",
    "                     feature_names=['title', 'console', 'genre', 'publisher', 'vg_score', 'critic_score',\n",
    "       'user_score', 'total_shipped', 'aisan_sales', 'north_american_sales',\n",
    "       'japan_sales', 'global_sales', 'release_year'],\n",
    "                     class_names=sorted(Y.unique()),\n",
    "                    label=True,filled=True)"
   ]
  },
  {
   "cell_type": "code",
   "execution_count": null,
   "id": "ba497f29",
   "metadata": {},
   "outputs": [],
   "source": []
  }
 ],
 "metadata": {
  "kernelspec": {
   "display_name": "Python 3 (ipykernel)",
   "language": "python",
   "name": "python3"
  },
  "language_info": {
   "codemirror_mode": {
    "name": "ipython",
    "version": 3
   },
   "file_extension": ".py",
   "mimetype": "text/x-python",
   "name": "python",
   "nbconvert_exporter": "python",
   "pygments_lexer": "ipython3",
   "version": "3.10.9"
  }
 },
 "nbformat": 4,
 "nbformat_minor": 5
}
